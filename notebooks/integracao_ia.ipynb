{
 "cells": [
  {
   "cell_type": "code",
   "execution_count": 26,
   "metadata": {},
   "outputs": [],
   "source": [
    "from transformers import pipeline\n",
    "from fpdf import FPDF\n",
    "import os\n",
    "from pathlib import Path"
   ]
  },
  {
   "cell_type": "code",
   "execution_count": null,
   "metadata": {},
   "outputs": [
    {
     "name": "stderr",
     "output_type": "stream",
     "text": [
      "Device set to use cpu\n"
     ]
    },
    {
     "name": "stdout",
     "output_type": "stream",
     "text": [
      "=== Relatório Gerado ===\n",
      "Resumo dos insights: - As vendas (Sales) presentam a distribuiço concentrada, com alguns outliers de altos. - A segmentaço de clientes via K-Means (K=3) hai clusters with distinct perfis: 1. High value (frequentes frequentes and high gasto). 2. Intermediários. 3. Low-end clients. - A análise shows that high-value discounts may reduzir significantly the lucro. Based on these data, elabore a clear, formal and detailed report, focused on business opportunities and advice.\n"
     ]
    }
   ],
   "source": [
    "# Utiliza o modelo \"google/flan-t5-base\", que é um modelo de instrução capaz de produzir textos claros e coerentes.\n",
    "gerador = pipeline(\n",
    "    \"text2text-generation\",\n",
    "    model=\"google/flan-t5-base\",\n",
    "    device=-1  # Usa CPU; se tiver GPU, configure device=0\n",
    ")\n",
    "\n",
    "# Modelo 'bigscience/bloom-560m'\n",
    "# gerador = pipeline(\n",
    "#     'text-generation',\n",
    "#     model='bigscience/bloom-560m',\n",
    "#     tokenizer='bigscience/bloom-560m',\n",
    "#     device=-1  # Usa CPU; se tiver GPU, configure device=0\n",
    "# )\n",
    "\n",
    "# Modelo 'pierreguillou/gpt2-small-portuguese'\n",
    "# gerador = pipeline(\n",
    "#     'text-generation',\n",
    "#     model='pierreguillou/gpt2-small-portuguese',\n",
    "#     tokenizer='pierreguillou/gpt2-small-portuguese',\n",
    "#     device=-1  # Usa CPU; se tiver GPU, configure device=0\n",
    "# )\n",
    "\n",
    "# Exemplo de prompt com o contexto dos insights\n",
    "prompt = \"\"\"\n",
    "Resumo dos insights:\n",
    "- As vendas (Sales) apresentam uma distribuição concentrada, com alguns outliers de valores altos.\n",
    "- A segmentação de clientes via K-Means (K=3) gerou clusters com perfis distintos:\n",
    "  1. Clientes de alto valor (compras frequentes e alto gasto).\n",
    "  2. Clientes intermediários.\n",
    "  3. Clientes de baixo engajamento.\n",
    "- A análise mostra que descontos elevados podem reduzir significativamente o lucro.\n",
    "\n",
    "Com base nesses dados, elabore um relatório claro, formal e detalhado, com foco em oportunidades de negócio e recomendações de ação.\n",
    "\"\"\"\n",
    "\n",
    "# Gera o texto a partir do prompt com parâmetros ajustados\n",
    "resultado = gerador(\n",
    "    prompt,\n",
    "    max_length=300,\n",
    "    truncation=True,\n",
    ")\n",
    "report_text = resultado[0]['generated_text']\n",
    "\n",
    "print(\"=== Relatório Gerado ===\")\n",
    "print(report_text)"
   ]
  },
  {
   "cell_type": "code",
   "execution_count": 28,
   "metadata": {},
   "outputs": [],
   "source": [
    "# Supõe que o notebook está em um subdiretório; a raiz do projeto é um nível acima.\n",
    "project_root = Path(os.getcwd()).parent\n",
    "reports_dir = project_root / \"reports\"\n",
    "reports_dir.mkdir(exist_ok=True)"
   ]
  },
  {
   "cell_type": "code",
   "execution_count": 29,
   "metadata": {},
   "outputs": [
    {
     "name": "stdout",
     "output_type": "stream",
     "text": [
      "Relatório salvo em: c:\\Users\\User\\Desktop\\Cases\\TesteBeTalent\\reports\\relatorio.pdf\n"
     ]
    }
   ],
   "source": [
    "pdf = FPDF()\n",
    "pdf.add_page()\n",
    "\n",
    "# Define a fonte e o tamanho\n",
    "pdf.set_font(\"Arial\", size=12)\n",
    "\n",
    "# Adiciona o relatório ao PDF, quebrando o texto em linhas\n",
    "for line in report_text.split('\\n'):\n",
    "    pdf.multi_cell(0, 10, txt=line)\n",
    "\n",
    "# Salva o PDF na pasta \"reports\" na raiz do projeto\n",
    "pdf_file_path = reports_dir / \"relatorio.pdf\"\n",
    "pdf.output(str(pdf_file_path))\n",
    "\n",
    "print(\"Relatório salvo em:\", pdf_file_path)"
   ]
  }
 ],
 "metadata": {
  "kernelspec": {
   "display_name": ".venv",
   "language": "python",
   "name": "python3"
  },
  "language_info": {
   "codemirror_mode": {
    "name": "ipython",
    "version": 3
   },
   "file_extension": ".py",
   "mimetype": "text/x-python",
   "name": "python",
   "nbconvert_exporter": "python",
   "pygments_lexer": "ipython3",
   "version": "3.13.0"
  }
 },
 "nbformat": 4,
 "nbformat_minor": 2
}
